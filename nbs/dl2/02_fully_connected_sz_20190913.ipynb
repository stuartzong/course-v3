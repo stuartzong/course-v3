{
 "cells": [
  {
   "cell_type": "code",
   "execution_count": 1,
   "metadata": {},
   "outputs": [],
   "source": [
    "%load_ext autoreload\n",
    "%autoreload 2\n",
    "\n",
    "%matplotlib inline\n",
    "from IPython.core.interactiveshell import InteractiveShell\n",
    "InteractiveShell.ast_node_interactivity = \"all\""
   ]
  },
  {
   "cell_type": "markdown",
   "metadata": {},
   "source": [
    "## The forward and backward passes"
   ]
  },
  {
   "cell_type": "code",
   "execution_count": 2,
   "metadata": {},
   "outputs": [],
   "source": [
    "#export\n",
    "from exp.nb_01 import *\n",
    "\n",
    "def get_data():\n",
    "    path = datasets.download_data(MNIST_URL, ext='.gz')\n",
    "    with gzip.open(path, 'rb') as f:\n",
    "        ((x_train, y_train), (x_valid, y_valid), _) = pickle.load(f, encoding='latin-1')\n",
    "    return map(tensor, (x_train, y_train, x_valid, y_valid))\n",
    "\n",
    "def normalize(x, mean, std): \n",
    "    return (x-mean)/std"
   ]
  },
  {
   "cell_type": "code",
   "execution_count": 3,
   "metadata": {},
   "outputs": [],
   "source": [
    "x_train, y_train, x_valid, y_valid = get_data()"
   ]
  },
  {
   "cell_type": "code",
   "execution_count": 4,
   "metadata": {},
   "outputs": [
    {
     "data": {
      "text/plain": [
       "tensor([[0., 0., 0.,  ..., 0., 0., 0.],\n",
       "        [0., 0., 0.,  ..., 0., 0., 0.],\n",
       "        [0., 0., 0.,  ..., 0., 0., 0.],\n",
       "        ...,\n",
       "        [0., 0., 0.,  ..., 0., 0., 0.],\n",
       "        [0., 0., 0.,  ..., 0., 0., 0.],\n",
       "        [0., 0., 0.,  ..., 0., 0., 0.]])"
      ]
     },
     "execution_count": 4,
     "metadata": {},
     "output_type": "execute_result"
    },
    {
     "data": {
      "text/plain": [
       "torch.Size([50000, 784])"
      ]
     },
     "execution_count": 4,
     "metadata": {},
     "output_type": "execute_result"
    }
   ],
   "source": [
    "x_train\n",
    "x_train.shape"
   ]
  },
  {
   "cell_type": "code",
   "execution_count": 5,
   "metadata": {},
   "outputs": [
    {
     "data": {
      "text/plain": [
       "(tensor(0.1304), tensor(0.3073))"
      ]
     },
     "execution_count": 5,
     "metadata": {},
     "output_type": "execute_result"
    }
   ],
   "source": [
    "train_mean, train_std = x_train.mean(), x_train.std()\n",
    "train_mean, train_std"
   ]
  },
  {
   "cell_type": "code",
   "execution_count": 9,
   "metadata": {},
   "outputs": [
    {
     "data": {
      "text/plain": [
       "torch.Tensor"
      ]
     },
     "execution_count": 9,
     "metadata": {},
     "output_type": "execute_result"
    },
    {
     "data": {
      "text/plain": [
       "torch.Size([])"
      ]
     },
     "execution_count": 9,
     "metadata": {},
     "output_type": "execute_result"
    }
   ],
   "source": [
    "type(train_mean)\n",
    "train_mean.shape"
   ]
  },
  {
   "cell_type": "code",
   "execution_count": 10,
   "metadata": {},
   "outputs": [],
   "source": [
    "x_train = normalize(x_train, train_mean, train_std)\n",
    "# NB: Use training, not validation mean for validation set\n",
    "x_valid = normalize(x_valid, train_mean, train_std)"
   ]
  },
  {
   "cell_type": "code",
   "execution_count": 11,
   "metadata": {},
   "outputs": [
    {
     "data": {
      "text/plain": [
       "(tensor(0.0001), tensor(1.))"
      ]
     },
     "execution_count": 11,
     "metadata": {},
     "output_type": "execute_result"
    }
   ],
   "source": [
    "# after normalization, mean is 0 and std is 1\n",
    "norm_train_mean, norm_train_std = x_train.mean(), x_train.std()\n",
    "norm_train_mean, norm_train_std"
   ]
  },
  {
   "cell_type": "code",
   "execution_count": 12,
   "metadata": {},
   "outputs": [],
   "source": [
    "#export\n",
    "def test_near_zero(a, tol=1e-3): \n",
    "    assert a.abs() < tol \n",
    "    print(f\"Near zero: {a}\")"
   ]
  },
  {
   "cell_type": "code",
   "execution_count": 13,
   "metadata": {},
   "outputs": [
    {
     "name": "stdout",
     "output_type": "stream",
     "text": [
      "Near zero: 0.00012300178059376776\n",
      "Near zero: 0.0\n"
     ]
    }
   ],
   "source": [
    "test_near_zero(x_train.mean())\n",
    "test_near_zero(1-x_train.std())"
   ]
  },
  {
   "cell_type": "code",
   "execution_count": 17,
   "metadata": {},
   "outputs": [
    {
     "data": {
      "text/plain": [
       "(50000, 784, tensor(10), tensor([8, 7, 6, 3, 2, 9, 1, 4, 0, 5]))"
      ]
     },
     "execution_count": 17,
     "metadata": {},
     "output_type": "execute_result"
    }
   ],
   "source": [
    "# training set has 50000 images, every image is 28x28=784 pixels, images are numbers from 1 to 9\n",
    "n, m = x_train.shape\n",
    "c = y_train.max() + 1\n",
    "cu = y_train.unique()\n",
    "n, m, c, cu"
   ]
  },
  {
   "cell_type": "markdown",
   "metadata": {},
   "source": [
    "## Foundations version"
   ]
  },
  {
   "cell_type": "markdown",
   "metadata": {},
   "source": [
    "### Basic architecture"
   ]
  },
  {
   "cell_type": "code",
   "execution_count": 12,
   "metadata": {},
   "outputs": [],
   "source": [
    "# torch.randn(m, n) give a matrix with 0 mean and deviation of 1"
   ]
  },
  {
   "cell_type": "code",
   "execution_count": 61,
   "metadata": {},
   "outputs": [],
   "source": [
    "# num hidden. so input layer=784, hidden layer=50, output layer=1, \n",
    "# why output is not 10, probability of 0-9? just a simple demonstrations here.\n",
    "# in real life, output will be 10, cross entropy to decide the number with the highest probability\n",
    "nh = 50"
   ]
  },
  {
   "cell_type": "code",
   "execution_count": 62,
   "metadata": {},
   "outputs": [],
   "source": [
    "# simplified kaiming init / he init\n",
    "w1 = torch.randn(m, nh)/math.sqrt(m)\n",
    "b1 = torch.zeros(nh)\n",
    "w2 = torch.randn(nh, 1)/math.sqrt(nh)\n",
    "b2 = torch.zeros(1)"
   ]
  },
  {
   "cell_type": "code",
   "execution_count": 65,
   "metadata": {},
   "outputs": [
    {
     "data": {
      "text/plain": [
       "(torch.Size([784, 50]),\n",
       " tensor([-0.0043, -0.0712, -0.0534,  0.0497,  0.0389, -0.0226,  0.0006, -0.0075,\n",
       "          0.0037,  0.0340,  0.0571, -0.0036, -0.0277,  0.0218, -0.0457,  0.0116,\n",
       "          0.0277,  0.0450,  0.0414, -0.0777,  0.0574, -0.0174, -0.0171,  0.0062,\n",
       "          0.0021, -0.0366,  0.0491,  0.0019, -0.0125,  0.0449, -0.0195, -0.0133,\n",
       "          0.0054,  0.0056, -0.0484, -0.0072, -0.1105,  0.0540,  0.0401, -0.0388,\n",
       "         -0.0314,  0.0072,  0.0014, -0.0391,  0.0157,  0.0127,  0.0535,  0.0057,\n",
       "         -0.0138,  0.0155]))"
      ]
     },
     "execution_count": 65,
     "metadata": {},
     "output_type": "execute_result"
    },
    {
     "data": {
      "text/plain": [
       "(torch.Size([50]),\n",
       " tensor([0., 0., 0., 0., 0., 0., 0., 0., 0., 0., 0., 0., 0., 0., 0., 0., 0., 0., 0., 0., 0., 0., 0., 0.,\n",
       "         0., 0., 0., 0., 0., 0., 0., 0., 0., 0., 0., 0., 0., 0., 0., 0., 0., 0., 0., 0., 0., 0., 0., 0.,\n",
       "         0., 0.]))"
      ]
     },
     "execution_count": 65,
     "metadata": {},
     "output_type": "execute_result"
    },
    {
     "data": {
      "text/plain": [
       "(torch.Size([50, 1]), tensor([[ 0.0703],\n",
       "         [ 0.0982],\n",
       "         [ 0.1289],\n",
       "         [ 0.1922],\n",
       "         [-0.1006]]))"
      ]
     },
     "execution_count": 65,
     "metadata": {},
     "output_type": "execute_result"
    },
    {
     "data": {
      "text/plain": [
       "(torch.Size([1]), tensor([0.]))"
      ]
     },
     "execution_count": 65,
     "metadata": {},
     "output_type": "execute_result"
    },
    {
     "data": {
      "text/plain": [
       "tensor(9.7093e-06)"
      ]
     },
     "execution_count": 65,
     "metadata": {},
     "output_type": "execute_result"
    },
    {
     "data": {
      "text/plain": [
       "tensor(0.0356)"
      ]
     },
     "execution_count": 65,
     "metadata": {},
     "output_type": "execute_result"
    },
    {
     "data": {
      "text/plain": [
       "0.03571428571428571"
      ]
     },
     "execution_count": 65,
     "metadata": {},
     "output_type": "execute_result"
    }
   ],
   "source": [
    "w1.shape, w1[0]\n",
    "b1.shape, b1\n",
    "w2.shape, w2[:5]\n",
    "b2.shape, b2\n",
    "w1.mean()\n",
    "w1.std()\n",
    "1/math.sqrt(m)"
   ]
  },
  {
   "cell_type": "markdown",
   "metadata": {},
   "source": [
    "### why do we want the mean of weight is 0 and standard deviation is $\\frac{1} {\\sqrt{m}}$? because we used kaiming initialization. dividing the random numbers by square root of m.\n",
    "in fact, we have an activation function as well. so we really want is the std of activation is about 1. we intialzied with   $\\frac{2} {\\sqrt{m}}$"
   ]
  },
  {
   "cell_type": "code",
   "execution_count": 66,
   "metadata": {
    "scrolled": true
   },
   "outputs": [
    {
     "name": "stdout",
     "output_type": "stream",
     "text": [
      "Near zero: 9.709310688776895e-06\n",
      "Near zero: -9.001418948173523e-05\n"
     ]
    }
   ],
   "source": [
    "test_near_zero(w1.mean())\n",
    "test_near_zero(w1.std()-1/math.sqrt(m))\n"
   ]
  },
  {
   "cell_type": "code",
   "execution_count": 67,
   "metadata": {},
   "outputs": [
    {
     "data": {
      "text/plain": [
       "(tensor(-0.0057), tensor(0.9924))"
      ]
     },
     "execution_count": 67,
     "metadata": {},
     "output_type": "execute_result"
    }
   ],
   "source": [
    "# This should be ~ (0,1) (mean,std)... because we normalized x_valid with train_mean and train_std\n",
    "x_valid.mean(), x_valid.std()"
   ]
  },
  {
   "cell_type": "code",
   "execution_count": 69,
   "metadata": {},
   "outputs": [],
   "source": [
    "def lin(x, w, b): \n",
    "    return x@w + b"
   ]
  },
  {
   "cell_type": "code",
   "execution_count": 70,
   "metadata": {},
   "outputs": [
    {
     "data": {
      "text/plain": [
       "torch.Size([10000, 784])"
      ]
     },
     "execution_count": 70,
     "metadata": {},
     "output_type": "execute_result"
    },
    {
     "data": {
      "text/plain": [
       "torch.Size([784, 50])"
      ]
     },
     "execution_count": 70,
     "metadata": {},
     "output_type": "execute_result"
    },
    {
     "data": {
      "text/plain": [
       "torch.Size([10000, 50])"
      ]
     },
     "execution_count": 70,
     "metadata": {},
     "output_type": "execute_result"
    }
   ],
   "source": [
    "x_valid.shape\n",
    "w1.shape\n",
    "t = lin(x_valid, w1, b1)\n",
    "t.shape\n"
   ]
  },
  {
   "cell_type": "code",
   "execution_count": 62,
   "metadata": {},
   "outputs": [
    {
     "data": {
      "text/plain": [
       "(tensor(0.0843), tensor(1.0086))"
      ]
     },
     "execution_count": 62,
     "metadata": {},
     "output_type": "execute_result"
    }
   ],
   "source": [
    "#...so should this, because we used kaiming init, which is designed to do this\n",
    "t.mean(), t.std()"
   ]
  },
  {
   "cell_type": "code",
   "execution_count": 74,
   "metadata": {},
   "outputs": [],
   "source": [
    "def relu(x): \n",
    "    return x.clamp_min(0.)"
   ]
  },
  {
   "cell_type": "code",
   "execution_count": 64,
   "metadata": {},
   "outputs": [],
   "source": [
    "t = relu(lin(x_valid, w1, b1))"
   ]
  },
  {
   "cell_type": "code",
   "execution_count": 65,
   "metadata": {},
   "outputs": [
    {
     "data": {
      "text/plain": [
       "(tensor(0.4423), tensor(0.6341))"
      ]
     },
     "execution_count": 65,
     "metadata": {},
     "output_type": "execute_result"
    }
   ],
   "source": [
    "#...actually it really should be this! after Relu, we removed all negative values, so mean will not be 0, std should about halved.\n",
    "t.mean(), t.std()"
   ]
  },
  {
   "cell_type": "markdown",
   "metadata": {},
   "source": [
    "From pytorch docs: `a: the negative slope of the rectifier used after this layer (0 for ReLU by default)`\n",
    "\n",
    "$$\\text{std} = \\sqrt{\\frac{2}{(1 + a^2) \\times \\text{fan_in}}}$$\n",
    "\n",
    "This was introduced in the paper that described the Imagenet-winning approach from *He et al*: [Delving Deep into Rectifiers](https://arxiv.org/abs/1502.01852), which was also the first paper that claimed \"super-human performance\" on Imagenet (and, most importantly, it introduced resnets!)"
   ]
  },
  {
   "cell_type": "code",
   "execution_count": 66,
   "metadata": {},
   "outputs": [],
   "source": [
    "# kaiming init / he init for relu\n",
    "w1 = torch.randn(m,nh)*math.sqrt(2/m)"
   ]
  },
  {
   "cell_type": "code",
   "execution_count": 67,
   "metadata": {},
   "outputs": [
    {
     "data": {
      "text/plain": [
       "(tensor(-5.8178e-05), tensor(0.0507))"
      ]
     },
     "execution_count": 67,
     "metadata": {},
     "output_type": "execute_result"
    }
   ],
   "source": [
    "# std of w1 is not 1 any more\n",
    "w1.mean(), w1.std()"
   ]
  },
  {
   "cell_type": "code",
   "execution_count": 68,
   "metadata": {},
   "outputs": [
    {
     "data": {
      "text/plain": [
       "(tensor(0.5374), tensor(0.8135))"
      ]
     },
     "execution_count": 68,
     "metadata": {},
     "output_type": "execute_result"
    }
   ],
   "source": [
    "t = relu(lin(x_valid, w1, b1))\n",
    "t.mean(), t.std()"
   ]
  },
  {
   "cell_type": "code",
   "execution_count": 72,
   "metadata": {},
   "outputs": [],
   "source": [
    "#export\n",
    "from torch.nn import init"
   ]
  },
  {
   "cell_type": "markdown",
   "metadata": {},
   "source": [
    "preserves the magnitude of the variance of the weights when initializing"
   ]
  },
  {
   "cell_type": "code",
   "execution_count": 75,
   "metadata": {},
   "outputs": [
    {
     "data": {
      "text/plain": [
       "tensor([[ 0.0575,  0.0385, -0.0167,  ...,  0.0160, -0.0484, -0.0352],\n",
       "        [ 0.0029, -0.0057, -0.0413,  ..., -0.0764,  0.1001,  0.0823],\n",
       "        [-0.0260, -0.0501, -0.0353,  ...,  0.0356,  0.0199, -0.0071],\n",
       "        ...,\n",
       "        [-0.0097, -0.0223, -0.0458,  ..., -0.0251, -0.0290,  0.0551],\n",
       "        [ 0.0102, -0.0073, -0.0809,  ..., -0.0310, -0.0123,  0.0066],\n",
       "        [ 0.0118,  0.0997, -0.0414,  ..., -0.0337,  0.0294,  0.0247]])"
      ]
     },
     "execution_count": 75,
     "metadata": {},
     "output_type": "execute_result"
    }
   ],
   "source": [
    "w1 = torch.zeros(m, nh)\n",
    "init.kaiming_normal_(w1, mode='fan_out')\n",
    "t = relu(lin(x_valid, w1, b1))"
   ]
  },
  {
   "cell_type": "code",
   "execution_count": 33,
   "metadata": {},
   "outputs": [],
   "source": [
    "init.kaiming_normal_??"
   ]
  },
  {
   "cell_type": "markdown",
   "metadata": {},
   "source": [
    "$   \\text{std} = \\sqrt{\\frac{2}{(1 + a^2) \\times \\text{fan_in}}}$\n",
    "\n",
    "Also known as He initialization."
   ]
  },
  {
   "cell_type": "code",
   "execution_count": 76,
   "metadata": {},
   "outputs": [
    {
     "data": {
      "text/plain": [
       "(tensor(-0.0003), tensor(0.0508))"
      ]
     },
     "execution_count": 76,
     "metadata": {},
     "output_type": "execute_result"
    }
   ],
   "source": [
    "w1.mean(), w1.std()"
   ]
  },
  {
   "cell_type": "code",
   "execution_count": 79,
   "metadata": {},
   "outputs": [
    {
     "data": {
      "text/plain": [
       "(torch.Size([10000, 50]), tensor(0.5877), tensor(0.8654))"
      ]
     },
     "execution_count": 79,
     "metadata": {},
     "output_type": "execute_result"
    }
   ],
   "source": [
    "t.shape, t.mean(), t.std()"
   ]
  },
  {
   "cell_type": "code",
   "execution_count": 81,
   "metadata": {},
   "outputs": [],
   "source": [
    "import torch.nn"
   ]
  },
  {
   "cell_type": "code",
   "execution_count": 82,
   "metadata": {},
   "outputs": [
    {
     "data": {
      "text/plain": [
       "torch.Size([50, 784])"
      ]
     },
     "execution_count": 82,
     "metadata": {},
     "output_type": "execute_result"
    },
    {
     "data": {
      "text/plain": [
       "Parameter containing:\n",
       "tensor([[-0.0221, -0.0353,  0.0287,  ...,  0.0304, -0.0003, -0.0117],\n",
       "        [ 0.0310,  0.0343, -0.0128,  ..., -0.0178,  0.0080, -0.0305],\n",
       "        [ 0.0106,  0.0184, -0.0121,  ...,  0.0129, -0.0202, -0.0214],\n",
       "        ...,\n",
       "        [-0.0093, -0.0337, -0.0029,  ..., -0.0315, -0.0005,  0.0287],\n",
       "        [-0.0280, -0.0109, -0.0077,  ..., -0.0208, -0.0264, -0.0218],\n",
       "        [ 0.0153,  0.0325,  0.0155,  ...,  0.0109, -0.0168, -0.0078]],\n",
       "       requires_grad=True)"
      ]
     },
     "execution_count": 82,
     "metadata": {},
     "output_type": "execute_result"
    }
   ],
   "source": [
    "torch.nn.Linear(m, nh).weight.shape\n",
    "torch.nn.Linear(m, nh).weight"
   ]
  },
  {
   "cell_type": "code",
   "execution_count": null,
   "metadata": {},
   "outputs": [],
   "source": [
    "torch.nn.Linear.forward??"
   ]
  },
  {
   "cell_type": "code",
   "execution_count": null,
   "metadata": {},
   "outputs": [],
   "source": [
    "torch.nn.functional.linear??"
   ]
  },
  {
   "cell_type": "code",
   "execution_count": null,
   "metadata": {},
   "outputs": [],
   "source": [
    "torch.nn.Conv2d??"
   ]
  },
  {
   "cell_type": "code",
   "execution_count": null,
   "metadata": {},
   "outputs": [],
   "source": [
    "torch.nn.modules.conv._ConvNd.reset_parameters??"
   ]
  },
  {
   "cell_type": "code",
   "execution_count": 83,
   "metadata": {},
   "outputs": [],
   "source": [
    "# what if...?\n",
    "def relu(x): \n",
    "    return x.clamp_min(0.) - 0.5"
   ]
  },
  {
   "cell_type": "code",
   "execution_count": 87,
   "metadata": {},
   "outputs": [
    {
     "data": {
      "text/plain": [
       "(tensor(0.0312), tensor(0.7818))"
      ]
     },
     "execution_count": 87,
     "metadata": {},
     "output_type": "execute_result"
    }
   ],
   "source": [
    "# kaiming init / he init for relu\n",
    "w1 = torch.randn(m,nh)*math.sqrt(2./m )\n",
    "t1 = relu(lin(x_valid, w1, b1))\n",
    "t1.mean(), t1.std()"
   ]
  },
  {
   "cell_type": "code",
   "execution_count": 89,
   "metadata": {},
   "outputs": [
    {
     "data": {
      "text/plain": [
       "(tensor(-0.0003), tensor(0.0507))"
      ]
     },
     "execution_count": 89,
     "metadata": {},
     "output_type": "execute_result"
    }
   ],
   "source": [
    "w1.mean(), w1.std()"
   ]
  },
  {
   "cell_type": "code",
   "execution_count": 90,
   "metadata": {},
   "outputs": [],
   "source": [
    "def model(xb):\n",
    "    # xb is the input matrix, e.g. num_images X pixels\n",
    "    l1 = lin(xb, w1, b1)\n",
    "    l2 = relu(l1)\n",
    "    l3 = lin(l2, w2, b2)\n",
    "    return l3"
   ]
  },
  {
   "cell_type": "code",
   "execution_count": 91,
   "metadata": {},
   "outputs": [
    {
     "data": {
      "text/plain": [
       "torch.Size([10000, 1])"
      ]
     },
     "execution_count": 91,
     "metadata": {},
     "output_type": "execute_result"
    }
   ],
   "source": [
    "model(x_valid).shape"
   ]
  },
  {
   "cell_type": "code",
   "execution_count": 92,
   "metadata": {},
   "outputs": [
    {
     "name": "stdout",
     "output_type": "stream",
     "text": [
      "6.31 ms ± 1.16 ms per loop (mean ± std. dev. of 7 runs, 10 loops each)\n"
     ]
    }
   ],
   "source": [
    "%timeit -n 10 _ = model(x_valid)"
   ]
  },
  {
   "cell_type": "code",
   "execution_count": 93,
   "metadata": {},
   "outputs": [],
   "source": [
    "assert model(x_valid).shape == torch.Size([x_valid.shape[0],1])"
   ]
  },
  {
   "cell_type": "code",
   "execution_count": 179,
   "metadata": {},
   "outputs": [],
   "source": [
    "# the above all makes sense"
   ]
  },
  {
   "cell_type": "markdown",
   "metadata": {},
   "source": [
    "### Loss function: MSE"
   ]
  },
  {
   "cell_type": "code",
   "execution_count": 97,
   "metadata": {},
   "outputs": [
    {
     "data": {
      "text/plain": [
       "torch.Size([10000, 1])"
      ]
     },
     "execution_count": 97,
     "metadata": {},
     "output_type": "execute_result"
    }
   ],
   "source": [
    "model(x_valid).shape"
   ]
  },
  {
   "cell_type": "markdown",
   "metadata": {},
   "source": [
    "We need `squeeze()` to get rid of that trailing (,1), in order to use `mse`. (Of course, `mse` is not a suitable loss function for multi-class classification; we'll use a better loss function soon (crossentropy loss). We'll use `mse` for now to keep things simple.)"
   ]
  },
  {
   "cell_type": "code",
   "execution_count": 105,
   "metadata": {},
   "outputs": [
    {
     "data": {
      "text/plain": [
       "torch.Size([1, 3])"
      ]
     },
     "execution_count": 105,
     "metadata": {},
     "output_type": "execute_result"
    },
    {
     "data": {
      "text/plain": [
       "tensor([1, 2, 3])"
      ]
     },
     "execution_count": 105,
     "metadata": {},
     "output_type": "execute_result"
    },
    {
     "data": {
      "text/plain": [
       "torch.Size([3])"
      ]
     },
     "execution_count": 105,
     "metadata": {},
     "output_type": "execute_result"
    },
    {
     "data": {
      "text/plain": [
       "tensor([1, 2, 3])"
      ]
     },
     "execution_count": 105,
     "metadata": {},
     "output_type": "execute_result"
    },
    {
     "data": {
      "text/plain": [
       "torch.Size([3])"
      ]
     },
     "execution_count": 105,
     "metadata": {},
     "output_type": "execute_result"
    }
   ],
   "source": [
    "a = torch.tensor([[1,2,3]])\n",
    "b = torch.tensor([[1], [2], [3]])\n",
    "a.shape\n",
    "a.squeeze()\n",
    "a.squeeze().shape\n",
    "b.squeeze()\n",
    "b.squeeze().shape"
   ]
  },
  {
   "cell_type": "code",
   "execution_count": 98,
   "metadata": {},
   "outputs": [],
   "source": [
    "#export\n",
    "def mse(output, targ): \n",
    "    return (output.squeeze(-1) - targ).pow(2).mean()"
   ]
  },
  {
   "cell_type": "code",
   "execution_count": null,
   "metadata": {},
   "outputs": [],
   "source": []
  },
  {
   "cell_type": "code",
   "execution_count": 106,
   "metadata": {},
   "outputs": [],
   "source": [
    "y_train, y_valid = y_train.float(), y_valid.float()"
   ]
  },
  {
   "cell_type": "code",
   "execution_count": 107,
   "metadata": {},
   "outputs": [],
   "source": [
    "# prediction is the output layer, not the mse\n",
    "preds = model(x_train)"
   ]
  },
  {
   "cell_type": "code",
   "execution_count": 108,
   "metadata": {},
   "outputs": [
    {
     "data": {
      "text/plain": [
       "torch.Size([50000, 1])"
      ]
     },
     "execution_count": 108,
     "metadata": {},
     "output_type": "execute_result"
    }
   ],
   "source": [
    "preds.shape"
   ]
  },
  {
   "cell_type": "code",
   "execution_count": 110,
   "metadata": {},
   "outputs": [
    {
     "data": {
      "text/plain": [
       "torch.Size([50000, 1])"
      ]
     },
     "execution_count": 110,
     "metadata": {},
     "output_type": "execute_result"
    },
    {
     "data": {
      "text/plain": [
       "tensor([[0.0262],\n",
       "        [0.2586]])"
      ]
     },
     "execution_count": 110,
     "metadata": {},
     "output_type": "execute_result"
    },
    {
     "data": {
      "text/plain": [
       "tensor(-3.1776)"
      ]
     },
     "execution_count": 110,
     "metadata": {},
     "output_type": "execute_result"
    },
    {
     "data": {
      "text/plain": [
       "tensor(2.3653)"
      ]
     },
     "execution_count": 110,
     "metadata": {},
     "output_type": "execute_result"
    },
    {
     "data": {
      "text/plain": [
       "torch.Size([50000])"
      ]
     },
     "execution_count": 110,
     "metadata": {},
     "output_type": "execute_result"
    },
    {
     "data": {
      "text/plain": [
       "tensor([0.0262, 0.2586])"
      ]
     },
     "execution_count": 110,
     "metadata": {},
     "output_type": "execute_result"
    }
   ],
   "source": [
    "preds.shape\n",
    "preds[:2]\n",
    "preds.min()\n",
    "preds.max()\n",
    "preds.squeeze(-1).shape\n",
    "preds.squeeze(-1)[:2]"
   ]
  },
  {
   "cell_type": "code",
   "execution_count": 112,
   "metadata": {},
   "outputs": [
    {
     "data": {
      "text/plain": [
       "tensor(31.3875)"
      ]
     },
     "execution_count": 112,
     "metadata": {},
     "output_type": "execute_result"
    }
   ],
   "source": [
    "# model has not been trained yet\n",
    "mse(preds, y_train)"
   ]
  },
  {
   "cell_type": "code",
   "execution_count": 113,
   "metadata": {},
   "outputs": [
    {
     "data": {
      "text/plain": [
       "(torch.Size([50000, 1]), tensor([[ 0.0262],\n",
       "         [ 0.2586],\n",
       "         [ 0.4051],\n",
       "         ...,\n",
       "         [ 0.4289],\n",
       "         [-0.2489],\n",
       "         [-1.4365]]))"
      ]
     },
     "execution_count": 113,
     "metadata": {},
     "output_type": "execute_result"
    },
    {
     "data": {
      "text/plain": [
       "tensor([5., 0., 4.,  ..., 8., 4., 8.])"
      ]
     },
     "execution_count": 113,
     "metadata": {},
     "output_type": "execute_result"
    }
   ],
   "source": [
    "preds.shape, preds\n",
    "y_train"
   ]
  },
  {
   "cell_type": "markdown",
   "metadata": {},
   "source": [
    "all above make sense, forward pass is simple and straight forward."
   ]
  },
  {
   "cell_type": "markdown",
   "metadata": {},
   "source": [
    "### Gradients and backward pass"
   ]
  },
  {
   "cell_type": "markdown",
   "metadata": {},
   "source": [
    "$$\\operatorname{MSE}=\\frac{1}{n}\\sum_{i=1}^n(Y_i-\\hat{Y_i})^2$$"
   ]
  },
  {
   "cell_type": "markdown",
   "metadata": {},
   "source": [
    "* we need find 3 gradients: gradient with respect to output of previous layer, so that we can back pass the gradient\n",
    "* gradient with respect to weight, and gradient with respect to bias"
   ]
  },
  {
   "cell_type": "code",
   "execution_count": 91,
   "metadata": {},
   "outputs": [],
   "source": [
    "def mse_grad(inp, targ): \n",
    "    # grad of loss with respect to output of previous layer\n",
    "    # in this case the inp is the 50000 predictions, so the gradient of loss is with respect to each of the predictions.\n",
    "    inp.g = 2. * (inp.squeeze() - targ).unsqueeze(-1) / inp.shape[0]\n",
    "    print('mse grad', inp.g.shape, inp.g, inp.shape, inp, targ.shape, targ)"
   ]
  },
  {
   "cell_type": "markdown",
   "metadata": {},
   "source": [
    "#### no magical here, just the prediction error times 2 and then divided by total number of predictions, so the gradient is for each of the 50000 predictions. mse_grad returns 50000 grads."
   ]
  },
  {
   "cell_type": "code",
   "execution_count": 106,
   "metadata": {},
   "outputs": [
    {
     "name": "stdout",
     "output_type": "stream",
     "text": [
      "mse grad torch.Size([50000, 1]) tensor([[-1.5327e-04],\n",
      "        [ 2.4920e-05],\n",
      "        [-2.7190e-04],\n",
      "        ...,\n",
      "        [-2.9282e-04],\n",
      "        [-1.5750e-04],\n",
      "        [-3.0212e-04]]) torch.Size([50000, 1]) tensor([[ 1.1683],\n",
      "        [ 0.6230],\n",
      "        [-2.7974],\n",
      "        ...,\n",
      "        [ 0.6794],\n",
      "        [ 0.0625],\n",
      "        [ 0.4470]]) torch.Size([50000]) tensor([5., 0., 4.,  ..., 8., 4., 8.])\n"
     ]
    },
    {
     "data": {
      "text/plain": [
       "tensor([-1.5327e-04,  2.4920e-05])"
      ]
     },
     "execution_count": 106,
     "metadata": {},
     "output_type": "execute_result"
    },
    {
     "data": {
      "text/plain": [
       "tensor([[-1.5327e-04],\n",
       "        [ 2.4920e-05]])"
      ]
     },
     "execution_count": 106,
     "metadata": {},
     "output_type": "execute_result"
    },
    {
     "data": {
      "text/plain": [
       "-0.000180932"
      ]
     },
     "execution_count": 106,
     "metadata": {},
     "output_type": "execute_result"
    },
    {
     "data": {
      "text/plain": [
       "3.4799999999999997e-06"
      ]
     },
     "execution_count": 106,
     "metadata": {},
     "output_type": "execute_result"
    }
   ],
   "source": [
    "mse_grad(preds, y_train)\n",
    "# the gradients for the first two predictions are: \n",
    "2*(preds[:2].squeeze(-1)-y_train[:2])/50000  \n",
    "preds.g[:2]\n",
    "2 * (0.4767 - 5)/50000\n",
    "2 * (0.0870 - 0)/50000"
   ]
  },
  {
   "cell_type": "code",
   "execution_count": 107,
   "metadata": {},
   "outputs": [
    {
     "data": {
      "text/plain": [
       "tensor([[-1.5327e-04],\n",
       "        [ 2.4920e-05],\n",
       "        [-2.7190e-04],\n",
       "        ...,\n",
       "        [-2.9282e-04],\n",
       "        [-1.5750e-04],\n",
       "        [-3.0212e-04]])"
      ]
     },
     "execution_count": 107,
     "metadata": {},
     "output_type": "execute_result"
    }
   ],
   "source": [
    "# the gradient is store in the g attribute\n",
    "preds.g"
   ]
  },
  {
   "cell_type": "code",
   "execution_count": 115,
   "metadata": {},
   "outputs": [],
   "source": [
    "# use this to see how relu_grad works\n",
    "def model(xb):\n",
    "    # xb is the input matrix, e.g. num_images X pixels\n",
    "    l1 = lin(xb, w1, b1)\n",
    "    l2 = relu(l1)\n",
    "    l3 = lin(l2, w2, b2)\n",
    "    return l1"
   ]
  },
  {
   "cell_type": "code",
   "execution_count": 123,
   "metadata": {},
   "outputs": [
    {
     "data": {
      "text/plain": [
       "torch.Size([50000, 50])"
      ]
     },
     "execution_count": 123,
     "metadata": {},
     "output_type": "execute_result"
    },
    {
     "data": {
      "text/plain": [
       "tensor([[0, 1, 0, 0, 1, 0, 1, 0, 1, 0, 1, 0, 0, 1, 0, 0, 0, 0, 0, 1, 0, 1, 0, 1,\n",
       "         0, 0, 1, 1, 0, 0, 1, 0, 0, 1, 0, 0, 0, 0, 1, 1, 1, 1, 0, 1, 1, 0, 0, 1,\n",
       "         0, 1],\n",
       "        [0, 1, 1, 1, 1, 0, 0, 0, 1, 0, 0, 1, 1, 0, 0, 1, 0, 0, 0, 1, 0, 0, 1, 0,\n",
       "         0, 0, 1, 1, 1, 0, 1, 0, 1, 1, 0, 1, 1, 0, 0, 1, 1, 1, 0, 1, 1, 0, 0, 1,\n",
       "         0, 1]], dtype=torch.uint8)"
      ]
     },
     "execution_count": 123,
     "metadata": {},
     "output_type": "execute_result"
    }
   ],
   "source": [
    "l1 = lin(x_train, w1, b1)\n",
    "l1.shape\n",
    "# l1 is relu input\n",
    "l1[:2]>0"
   ]
  },
  {
   "cell_type": "code",
   "execution_count": 108,
   "metadata": {},
   "outputs": [],
   "source": [
    "def relu_grad(inp, out):\n",
    "    # grad of relu with respect to input activations\n",
    "    # this out.g is the gradient of mse inp.g\n",
    "#     print('relu gradient')\n",
    "#     print('out is:', out.shape, out)\n",
    "#     print('out.g is:', out.g.shape, out.g)\n",
    "    # directly pass the gradients to inp from out for all positive inputs, negative inputs get 0 gradient\n",
    "    inp.g = (inp>0).float() * out.g"
   ]
  },
  {
   "cell_type": "code",
   "execution_count": null,
   "metadata": {},
   "outputs": [],
   "source": []
  },
  {
   "cell_type": "code",
   "execution_count": 109,
   "metadata": {},
   "outputs": [
    {
     "data": {
      "text/plain": [
       "<function __main__.relu_grad(inp, out)>"
      ]
     },
     "execution_count": 109,
     "metadata": {},
     "output_type": "execute_result"
    }
   ],
   "source": [
    "relu_grad"
   ]
  },
  {
   "cell_type": "code",
   "execution_count": 126,
   "metadata": {},
   "outputs": [],
   "source": [
    "def lin_grad(inp, out, w, b):   \n",
    "    inp.g = out.g @ w.t()\n",
    "    w.g = (inp.unsqueeze(-1) * out.g.unsqueeze(1)).sum(0)    \n",
    "    b.g = out.g.sum(0)"
   ]
  },
  {
   "cell_type": "code",
   "execution_count": 155,
   "metadata": {},
   "outputs": [],
   "source": [
    "def lin_grad(inp, out, w, b):\n",
    "    # think the gradient process as between two layers\n",
    "    # grad of matmul with respect to input\n",
    "    # out.g is the gradient of next layer, for lin2, out.g is the prediciton gradients calculated by mse_grad\n",
    "    # pass the gradients from next layer to previous layer by multiplying the gradient for each image and its corresponding weight\n",
    "    # image1's gradients for all 50 hidden neurons are just image1's gradient from next layer times each individual weight correspnding to each neuron \n",
    "    inp.g = out.g @ w.t()\n",
    "#     print('nnnnn', out.g[0] * w, inp.g[:1])\n",
    "#     test_near((out.g[0] * w), inp.g[:1].squeeze().unsqueeze(-1))\n",
    "#     w.g = (inp.unsqueeze(-1) * out.g.unsqueeze(1)).sum(0) # why not -1 for out.g\n",
    "    # element_wise multiplication and then sum over all images, input squeeze in a third axis, but gradients from next\n",
    "    # layer squeeze in a second dimension, so the weight gradient dimension is input 2nd dim x gradient 3rd dim, 784x50 in this case.\n",
    "    # gradient for weight connecting first input and first neuron is the sum of first pixel * gradient from first neuron over all images\n",
    "    w.g = (inp.unsqueeze(-1) * out.g.unsqueeze(1)).sum(0)\n",
    "#     print('mmmm', (inp.unsqueeze(-1) * out.g.unsqueeze(1)).shape, w.g.shape)\n",
    "    # bias gradient is just the sum of next layer's gradidents for all images\n",
    "    b.g = out.g.sum(0)\n",
    "#     print('linear layer gradient')\n",
    "#     print('out is:', out.shape, out)\n",
    "#     print('w.g:', w.g.shape, w.g, w.shape, w) \n",
    "#     print('b.g', b.g.shape, b.g, b.shape, b) \n",
    "#     print('inp.g', inp.g.shape, inp.g, inp.shape, inp)"
   ]
  },
  {
   "cell_type": "markdown",
   "metadata": {},
   "source": [
    "### how do we actually back pass loss\n",
    "assuming input layer=1000, hidden layer=9, output layer =2, training images=20000\n",
    "* weight gradient (linear layer): squeeze in a trailing aixs in input, squeeze in a second axis in gradients of next layer, times them together and then sum over all the training examples. back pass the last two layers: (20000, 9, 1)X(20000, 1, 2), so weights are (9,2). it is like the activation of first neuron in hidden layer times the first gradient in the output layer for all images and then sum over them.\n",
    "* bias gradient: sum over all images for the gradients in the next layer\n",
    "* previous layer gradient: gradients of next layer times transposed weights. (20000, 2)x(2, 9)=(20000, 9), this is weighted sum of gradients of next layer"
   ]
  },
  {
   "cell_type": "code",
   "execution_count": 124,
   "metadata": {},
   "outputs": [],
   "source": [
    "def forward_and_backward(inp, targ):\n",
    "    # forward pass:\n",
    "    l1 = inp @ w1 + b1\n",
    "    l2 = relu(l1)\n",
    "#     print('xxxx', l2.shape, l2.unsqueeze(-1).shape, l2[:2])\n",
    "    out = l2 @ w2 + b2\n",
    "    \n",
    "    # we don't actually need the loss in backward!\n",
    "    loss = mse(out, targ)\n",
    "    \n",
    "    # backward pass:\n",
    "    mse_grad(out, targ)\n",
    "#     print('yyy', out.shape, out.g.shape, out.g.unsqueeze(1).shape, out.g[:2])\n",
    "    lin_grad(l2, out, w2, b2)\n",
    "#     print('zzzz', w2.g.shape, l2.g)\n",
    "#     print('yyy', l2.shape, l2.g.shape, l2.g[:2])\n",
    "    relu_grad(l1, l2)\n",
    "#     print('zzz', l1.shape, l1[:2], l1.g.shape, l1.g)\n",
    "    print('yyy', l1.shape, l1.g.shape, l1.g.unsqueeze(1).shape, l1.g[:2], l1.g.unsqueeze(1)[:2])\n",
    "    print('YYY', inp.shape, inp.unsqueeze(-1).shape, inp.unsqueeze(-1)[:2])\n",
    "    lin_grad(inp, l1, w1, b1)\n",
    "    print('zzzz', w1.g.shape, l1.g)"
   ]
  },
  {
   "cell_type": "code",
   "execution_count": 127,
   "metadata": {
    "scrolled": true
   },
   "outputs": [
    {
     "name": "stdout",
     "output_type": "stream",
     "text": [
      "mse grad torch.Size([50000, 1]) tensor([[-1.5327e-04],\n",
      "        [ 2.4920e-05],\n",
      "        [-2.7190e-04],\n",
      "        ...,\n",
      "        [-2.9282e-04],\n",
      "        [-1.5750e-04],\n",
      "        [-3.0212e-04]]) torch.Size([50000, 1]) tensor([[ 1.1683],\n",
      "        [ 0.6230],\n",
      "        [-2.7974],\n",
      "        ...,\n",
      "        [ 0.6794],\n",
      "        [ 0.0625],\n",
      "        [ 0.4470]]) torch.Size([50000]) tensor([5., 0., 4.,  ..., 8., 4., 8.])\n",
      "yyy torch.Size([50000, 50]) torch.Size([50000, 50]) torch.Size([50000, 1, 50]) tensor([[ 0.0000e+00, -2.1644e-05, -0.0000e+00, -0.0000e+00, -5.5032e-06,\n",
      "         -0.0000e+00, -3.4785e-05, -0.0000e+00,  1.6820e-05,  0.0000e+00,\n",
      "          1.6316e-07, -0.0000e+00, -0.0000e+00,  1.5277e-05, -0.0000e+00,\n",
      "         -0.0000e+00,  0.0000e+00, -0.0000e+00,  0.0000e+00,  4.0771e-05,\n",
      "          0.0000e+00,  1.1902e-05,  0.0000e+00,  6.9874e-06,  0.0000e+00,\n",
      "          0.0000e+00, -1.5681e-05,  1.7572e-05, -0.0000e+00,  0.0000e+00,\n",
      "         -2.4188e-05,  0.0000e+00, -0.0000e+00,  3.8277e-07,  0.0000e+00,\n",
      "         -0.0000e+00,  0.0000e+00,  0.0000e+00,  2.8679e-05,  1.2312e-05,\n",
      "         -1.0936e-05, -3.1759e-05, -0.0000e+00, -2.3706e-05, -1.5257e-05,\n",
      "          0.0000e+00,  0.0000e+00,  1.5680e-05,  0.0000e+00, -3.3328e-05],\n",
      "        [-0.0000e+00,  3.5192e-06,  5.2967e-07,  1.6064e-06,  8.9478e-07,\n",
      "          0.0000e+00,  0.0000e+00,  0.0000e+00, -2.7347e-06, -0.0000e+00,\n",
      "         -0.0000e+00,  5.6631e-07,  6.1975e-07, -0.0000e+00,  0.0000e+00,\n",
      "          1.9653e-06, -0.0000e+00,  0.0000e+00, -0.0000e+00, -6.6290e-06,\n",
      "         -0.0000e+00, -0.0000e+00, -2.6153e-06, -0.0000e+00, -0.0000e+00,\n",
      "         -0.0000e+00,  2.5496e-06, -2.8570e-06,  2.4567e-06, -0.0000e+00,\n",
      "          3.9328e-06, -0.0000e+00,  1.4213e-06, -6.2235e-08, -0.0000e+00,\n",
      "          2.2163e-06, -1.0751e-05, -0.0000e+00, -0.0000e+00, -2.0017e-06,\n",
      "          1.7781e-06,  5.1638e-06,  0.0000e+00,  3.8543e-06,  2.4806e-06,\n",
      "         -0.0000e+00, -0.0000e+00, -2.5494e-06, -0.0000e+00,  5.4189e-06]]) tensor([[[ 0.0000e+00, -2.1644e-05, -0.0000e+00, -0.0000e+00, -5.5032e-06,\n",
      "          -0.0000e+00, -3.4785e-05, -0.0000e+00,  1.6820e-05,  0.0000e+00,\n",
      "           1.6316e-07, -0.0000e+00, -0.0000e+00,  1.5277e-05, -0.0000e+00,\n",
      "          -0.0000e+00,  0.0000e+00, -0.0000e+00,  0.0000e+00,  4.0771e-05,\n",
      "           0.0000e+00,  1.1902e-05,  0.0000e+00,  6.9874e-06,  0.0000e+00,\n",
      "           0.0000e+00, -1.5681e-05,  1.7572e-05, -0.0000e+00,  0.0000e+00,\n",
      "          -2.4188e-05,  0.0000e+00, -0.0000e+00,  3.8277e-07,  0.0000e+00,\n",
      "          -0.0000e+00,  0.0000e+00,  0.0000e+00,  2.8679e-05,  1.2312e-05,\n",
      "          -1.0936e-05, -3.1759e-05, -0.0000e+00, -2.3706e-05, -1.5257e-05,\n",
      "           0.0000e+00,  0.0000e+00,  1.5680e-05,  0.0000e+00, -3.3328e-05]],\n",
      "\n",
      "        [[-0.0000e+00,  3.5192e-06,  5.2967e-07,  1.6064e-06,  8.9478e-07,\n",
      "           0.0000e+00,  0.0000e+00,  0.0000e+00, -2.7347e-06, -0.0000e+00,\n",
      "          -0.0000e+00,  5.6631e-07,  6.1975e-07, -0.0000e+00,  0.0000e+00,\n",
      "           1.9653e-06, -0.0000e+00,  0.0000e+00, -0.0000e+00, -6.6290e-06,\n",
      "          -0.0000e+00, -0.0000e+00, -2.6153e-06, -0.0000e+00, -0.0000e+00,\n",
      "          -0.0000e+00,  2.5496e-06, -2.8570e-06,  2.4567e-06, -0.0000e+00,\n",
      "           3.9328e-06, -0.0000e+00,  1.4213e-06, -6.2235e-08, -0.0000e+00,\n",
      "           2.2163e-06, -1.0751e-05, -0.0000e+00, -0.0000e+00, -2.0017e-06,\n",
      "           1.7781e-06,  5.1638e-06,  0.0000e+00,  3.8543e-06,  2.4806e-06,\n",
      "          -0.0000e+00, -0.0000e+00, -2.5494e-06, -0.0000e+00,  5.4189e-06]]])\n",
      "YYY torch.Size([50000, 784]) torch.Size([50000, 784, 1]) tensor([[[-0.4244],\n",
      "         [-0.4244],\n",
      "         [-0.4244],\n",
      "         ...,\n",
      "         [-0.4244],\n",
      "         [-0.4244],\n",
      "         [-0.4244]],\n",
      "\n",
      "        [[-0.4244],\n",
      "         [-0.4244],\n",
      "         [-0.4244],\n",
      "         ...,\n",
      "         [-0.4244],\n",
      "         [-0.4244],\n",
      "         [-0.4244]]])\n",
      "zzzz torch.Size([784, 50]) tensor([[ 0.0000e+00, -2.1644e-05, -0.0000e+00,  ...,  1.5680e-05,\n",
      "          0.0000e+00, -3.3328e-05],\n",
      "        [-0.0000e+00,  3.5192e-06,  5.2967e-07,  ..., -2.5494e-06,\n",
      "         -0.0000e+00,  5.4189e-06],\n",
      "        [ 5.9780e-05, -0.0000e+00, -5.7791e-06,  ...,  2.7816e-05,\n",
      "          0.0000e+00, -0.0000e+00],\n",
      "        ...,\n",
      "        [ 6.4380e-05, -4.1352e-05, -0.0000e+00,  ...,  0.0000e+00,\n",
      "          1.3033e-05, -0.0000e+00],\n",
      "        [ 0.0000e+00, -2.2242e-05, -0.0000e+00,  ...,  1.6113e-05,\n",
      "          7.0099e-06, -0.0000e+00],\n",
      "        [ 6.6425e-05, -0.0000e+00, -0.0000e+00,  ...,  0.0000e+00,\n",
      "          0.0000e+00, -0.0000e+00]])\n"
     ]
    }
   ],
   "source": [
    "forward_and_backward(x_train, y_train)"
   ]
  },
  {
   "cell_type": "code",
   "execution_count": 128,
   "metadata": {},
   "outputs": [
    {
     "data": {
      "text/plain": [
       "(torch.Size([2, 3, 1]), tensor([[[1],\n",
       "          [2],\n",
       "          [3]],\n",
       " \n",
       "         [[4],\n",
       "          [5],\n",
       "          [6]]]))"
      ]
     },
     "execution_count": 128,
     "metadata": {},
     "output_type": "execute_result"
    },
    {
     "data": {
      "text/plain": [
       "(torch.Size([2, 1, 1]), tensor([[[5]],\n",
       " \n",
       "         [[1]]]))"
      ]
     },
     "execution_count": 128,
     "metadata": {},
     "output_type": "execute_result"
    },
    {
     "data": {
      "text/plain": [
       "(torch.Size([2, 3, 1]), tensor([[[ 5],\n",
       "          [10],\n",
       "          [15]],\n",
       " \n",
       "         [[ 4],\n",
       "          [ 5],\n",
       "          [ 6]]]))"
      ]
     },
     "execution_count": 128,
     "metadata": {},
     "output_type": "execute_result"
    },
    {
     "data": {
      "text/plain": [
       "tensor([[ 9],\n",
       "        [15],\n",
       "        [21]])"
      ]
     },
     "execution_count": 128,
     "metadata": {},
     "output_type": "execute_result"
    },
    {
     "data": {
      "text/plain": [
       "tensor([[30],\n",
       "        [15]])"
      ]
     },
     "execution_count": 128,
     "metadata": {},
     "output_type": "execute_result"
    },
    {
     "data": {
      "text/plain": [
       "tensor([[ 5, 10, 15],\n",
       "        [ 4,  5,  6]])"
      ]
     },
     "execution_count": 128,
     "metadata": {},
     "output_type": "execute_result"
    }
   ],
   "source": [
    "# element-wise multiplication\n",
    "a = torch.tensor([[1,2,3], [4,5,6]]).unsqueeze(-1)\n",
    "b = torch.tensor([[5], [1]]).unsqueeze(1)\n",
    "# b == torch.tensor([[5], [1]]).unsqueeze(-1)\n",
    "#a @ b give a error because shape mismatch\n",
    "a.shape, a\n",
    "b.shape, b\n",
    "c = a * b # broadcasting\n",
    "c.shape, c\n",
    "c.sum(0)\n",
    "c.sum(1)\n",
    "c.sum(-1)"
   ]
  },
  {
   "cell_type": "code",
   "execution_count": 139,
   "metadata": {},
   "outputs": [
    {
     "data": {
      "text/plain": [
       "torch.Size([50000, 784])"
      ]
     },
     "execution_count": 139,
     "metadata": {},
     "output_type": "execute_result"
    },
    {
     "data": {
      "text/plain": [
       "tensor([[-0.4244, -0.4244, -0.4244,  ..., -0.4244, -0.4244, -0.4244],\n",
       "        [-0.4244, -0.4244, -0.4244,  ..., -0.4244, -0.4244, -0.4244],\n",
       "        [-0.4244, -0.4244, -0.4244,  ..., -0.4244, -0.4244, -0.4244],\n",
       "        ...,\n",
       "        [-0.4244, -0.4244, -0.4244,  ..., -0.4244, -0.4244, -0.4244],\n",
       "        [-0.4244, -0.4244, -0.4244,  ..., -0.4244, -0.4244, -0.4244],\n",
       "        [-0.4244, -0.4244, -0.4244,  ..., -0.4244, -0.4244, -0.4244]])"
      ]
     },
     "execution_count": 139,
     "metadata": {},
     "output_type": "execute_result"
    },
    {
     "data": {
      "text/plain": [
       "tensor([5., 0., 4., 1., 9., 2., 1., 3., 1., 4.])"
      ]
     },
     "execution_count": 139,
     "metadata": {},
     "output_type": "execute_result"
    },
    {
     "name": "stdout",
     "output_type": "stream",
     "text": [
      "mse grad torch.Size([50000, 1]) tensor([[-1.5327e-04],\n",
      "        [ 2.4920e-05],\n",
      "        [-2.7190e-04],\n",
      "        ...,\n",
      "        [-2.9282e-04],\n",
      "        [-1.5750e-04],\n",
      "        [-3.0212e-04]]) torch.Size([50000, 1]) tensor([[ 1.1683],\n",
      "        [ 0.6230],\n",
      "        [-2.7974],\n",
      "        ...,\n",
      "        [ 0.6794],\n",
      "        [ 0.0625],\n",
      "        [ 0.4470]]) torch.Size([50000]) tensor([5., 0., 4.,  ..., 8., 4., 8.])\n",
      "yyy torch.Size([50000, 50]) torch.Size([50000, 50]) torch.Size([50000, 1, 50]) tensor([[ 0.0000e+00, -2.1644e-05, -0.0000e+00, -0.0000e+00, -5.5032e-06,\n",
      "         -0.0000e+00, -3.4785e-05, -0.0000e+00,  1.6820e-05,  0.0000e+00,\n",
      "          1.6316e-07, -0.0000e+00, -0.0000e+00,  1.5277e-05, -0.0000e+00,\n",
      "         -0.0000e+00,  0.0000e+00, -0.0000e+00,  0.0000e+00,  4.0771e-05,\n",
      "          0.0000e+00,  1.1902e-05,  0.0000e+00,  6.9874e-06,  0.0000e+00,\n",
      "          0.0000e+00, -1.5681e-05,  1.7572e-05, -0.0000e+00,  0.0000e+00,\n",
      "         -2.4188e-05,  0.0000e+00, -0.0000e+00,  3.8277e-07,  0.0000e+00,\n",
      "         -0.0000e+00,  0.0000e+00,  0.0000e+00,  2.8679e-05,  1.2312e-05,\n",
      "         -1.0936e-05, -3.1759e-05, -0.0000e+00, -2.3706e-05, -1.5257e-05,\n",
      "          0.0000e+00,  0.0000e+00,  1.5680e-05,  0.0000e+00, -3.3328e-05],\n",
      "        [-0.0000e+00,  3.5192e-06,  5.2967e-07,  1.6064e-06,  8.9478e-07,\n",
      "          0.0000e+00,  0.0000e+00,  0.0000e+00, -2.7347e-06, -0.0000e+00,\n",
      "         -0.0000e+00,  5.6631e-07,  6.1975e-07, -0.0000e+00,  0.0000e+00,\n",
      "          1.9653e-06, -0.0000e+00,  0.0000e+00, -0.0000e+00, -6.6290e-06,\n",
      "         -0.0000e+00, -0.0000e+00, -2.6153e-06, -0.0000e+00, -0.0000e+00,\n",
      "         -0.0000e+00,  2.5496e-06, -2.8570e-06,  2.4567e-06, -0.0000e+00,\n",
      "          3.9328e-06, -0.0000e+00,  1.4213e-06, -6.2235e-08, -0.0000e+00,\n",
      "          2.2163e-06, -1.0751e-05, -0.0000e+00, -0.0000e+00, -2.0017e-06,\n",
      "          1.7781e-06,  5.1638e-06,  0.0000e+00,  3.8543e-06,  2.4806e-06,\n",
      "         -0.0000e+00, -0.0000e+00, -2.5494e-06, -0.0000e+00,  5.4189e-06]]) tensor([[[ 0.0000e+00, -2.1644e-05, -0.0000e+00, -0.0000e+00, -5.5032e-06,\n",
      "          -0.0000e+00, -3.4785e-05, -0.0000e+00,  1.6820e-05,  0.0000e+00,\n",
      "           1.6316e-07, -0.0000e+00, -0.0000e+00,  1.5277e-05, -0.0000e+00,\n",
      "          -0.0000e+00,  0.0000e+00, -0.0000e+00,  0.0000e+00,  4.0771e-05,\n",
      "           0.0000e+00,  1.1902e-05,  0.0000e+00,  6.9874e-06,  0.0000e+00,\n",
      "           0.0000e+00, -1.5681e-05,  1.7572e-05, -0.0000e+00,  0.0000e+00,\n",
      "          -2.4188e-05,  0.0000e+00, -0.0000e+00,  3.8277e-07,  0.0000e+00,\n",
      "          -0.0000e+00,  0.0000e+00,  0.0000e+00,  2.8679e-05,  1.2312e-05,\n",
      "          -1.0936e-05, -3.1759e-05, -0.0000e+00, -2.3706e-05, -1.5257e-05,\n",
      "           0.0000e+00,  0.0000e+00,  1.5680e-05,  0.0000e+00, -3.3328e-05]],\n",
      "\n",
      "        [[-0.0000e+00,  3.5192e-06,  5.2967e-07,  1.6064e-06,  8.9478e-07,\n",
      "           0.0000e+00,  0.0000e+00,  0.0000e+00, -2.7347e-06, -0.0000e+00,\n",
      "          -0.0000e+00,  5.6631e-07,  6.1975e-07, -0.0000e+00,  0.0000e+00,\n",
      "           1.9653e-06, -0.0000e+00,  0.0000e+00, -0.0000e+00, -6.6290e-06,\n",
      "          -0.0000e+00, -0.0000e+00, -2.6153e-06, -0.0000e+00, -0.0000e+00,\n",
      "          -0.0000e+00,  2.5496e-06, -2.8570e-06,  2.4567e-06, -0.0000e+00,\n",
      "           3.9328e-06, -0.0000e+00,  1.4213e-06, -6.2235e-08, -0.0000e+00,\n",
      "           2.2163e-06, -1.0751e-05, -0.0000e+00, -0.0000e+00, -2.0017e-06,\n",
      "           1.7781e-06,  5.1638e-06,  0.0000e+00,  3.8543e-06,  2.4806e-06,\n",
      "          -0.0000e+00, -0.0000e+00, -2.5494e-06, -0.0000e+00,  5.4189e-06]]])\n",
      "YYY torch.Size([50000, 784]) torch.Size([50000, 784, 1]) tensor([[[-0.4244],\n",
      "         [-0.4244],\n",
      "         [-0.4244],\n",
      "         ...,\n",
      "         [-0.4244],\n",
      "         [-0.4244],\n",
      "         [-0.4244]],\n",
      "\n",
      "        [[-0.4244],\n",
      "         [-0.4244],\n",
      "         [-0.4244],\n",
      "         ...,\n",
      "         [-0.4244],\n",
      "         [-0.4244],\n",
      "         [-0.4244]]])\n",
      "zzzz torch.Size([784, 50]) tensor([[ 0.0000e+00, -2.1644e-05, -0.0000e+00,  ...,  1.5680e-05,\n",
      "          0.0000e+00, -3.3328e-05],\n",
      "        [-0.0000e+00,  3.5192e-06,  5.2967e-07,  ..., -2.5494e-06,\n",
      "         -0.0000e+00,  5.4189e-06],\n",
      "        [ 5.9780e-05, -0.0000e+00, -5.7791e-06,  ...,  2.7816e-05,\n",
      "          0.0000e+00, -0.0000e+00],\n",
      "        ...,\n",
      "        [ 6.4380e-05, -4.1352e-05, -0.0000e+00,  ...,  0.0000e+00,\n",
      "          1.3033e-05, -0.0000e+00],\n",
      "        [ 0.0000e+00, -2.2242e-05, -0.0000e+00,  ...,  1.6113e-05,\n",
      "          7.0099e-06, -0.0000e+00],\n",
      "        [ 6.6425e-05, -0.0000e+00, -0.0000e+00,  ...,  0.0000e+00,\n",
      "          0.0000e+00, -0.0000e+00]])\n"
     ]
    }
   ],
   "source": [
    "x_train.shape\n",
    "x_train[:10]\n",
    "y_train[:10]\n",
    "forward_and_backward(x_train, y_train)"
   ]
  },
  {
   "cell_type": "code",
   "execution_count": 140,
   "metadata": {},
   "outputs": [
    {
     "data": {
      "text/plain": [
       "(torch.Size([784, 50]), torch.Size([784, 50]))"
      ]
     },
     "execution_count": 140,
     "metadata": {},
     "output_type": "execute_result"
    }
   ],
   "source": [
    "w1.g.shape, w1.shape"
   ]
  },
  {
   "cell_type": "code",
   "execution_count": 141,
   "metadata": {},
   "outputs": [],
   "source": [
    "# Save for testing against later\n",
    "w1g = w1.g.clone()\n",
    "w2g = w2.g.clone()\n",
    "b1g = b1.g.clone()\n",
    "b2g = b2.g.clone()\n",
    "ig  = x_train.g.clone()"
   ]
  },
  {
   "cell_type": "markdown",
   "metadata": {},
   "source": [
    "We cheat a little bit and use PyTorch autograd to check our results."
   ]
  },
  {
   "cell_type": "code",
   "execution_count": 142,
   "metadata": {},
   "outputs": [],
   "source": [
    "xt2 = x_train.clone().requires_grad_(True)\n",
    "w12 = w1.clone().requires_grad_(True)\n",
    "w22 = w2.clone().requires_grad_(True)\n",
    "b12 = b1.clone().requires_grad_(True)\n",
    "b22 = b2.clone().requires_grad_(True)"
   ]
  },
  {
   "cell_type": "code",
   "execution_count": 143,
   "metadata": {},
   "outputs": [],
   "source": [
    "def forward(inp, targ):\n",
    "    # forward pass:\n",
    "    l1 = inp @ w12 + b12\n",
    "    l2 = relu(l1)\n",
    "    out = l2 @ w22 + b22\n",
    "    # we don't actually need the loss in backward!\n",
    "    return mse(out, targ)"
   ]
  },
  {
   "cell_type": "code",
   "execution_count": 144,
   "metadata": {},
   "outputs": [],
   "source": [
    "loss = forward(xt2, y_train)"
   ]
  },
  {
   "cell_type": "code",
   "execution_count": 145,
   "metadata": {},
   "outputs": [],
   "source": [
    "loss.backward()"
   ]
  },
  {
   "cell_type": "code",
   "execution_count": 146,
   "metadata": {},
   "outputs": [],
   "source": [
    "test_near(w22.grad, w2g)\n",
    "test_near(b22.grad, b2g)\n",
    "test_near(w12.grad, w1g)\n",
    "test_near(b12.grad, b1g)\n",
    "test_near(xt2.grad, ig )"
   ]
  },
  {
   "cell_type": "markdown",
   "metadata": {},
   "source": [
    "## Refactor model"
   ]
  },
  {
   "cell_type": "markdown",
   "metadata": {},
   "source": [
    "### Layers as classes"
   ]
  },
  {
   "cell_type": "code",
   "execution_count": 114,
   "metadata": {},
   "outputs": [],
   "source": [
    "class Relu():\n",
    "    def __call__(self, inp):\n",
    "        self.inp = inp\n",
    "        self.out = inp.clamp_min(0.)-0.5\n",
    "        return self.out\n",
    "    \n",
    "    def backward(self): \n",
    "        self.inp.g = (self.inp>0).float() * self.out.g"
   ]
  },
  {
   "cell_type": "code",
   "execution_count": 138,
   "metadata": {},
   "outputs": [
    {
     "data": {
      "text/plain": [
       "torch.Size([2, 784])"
      ]
     },
     "execution_count": 138,
     "metadata": {},
     "output_type": "execute_result"
    },
    {
     "data": {
      "text/plain": [
       "tensor([[-0.4244, -0.4244, -0.4244,  ..., -0.4244, -0.4244, -0.4244],\n",
       "        [-0.4244, -0.4244, -0.4244,  ..., -0.4244, -0.4244, -0.4244]])"
      ]
     },
     "execution_count": 138,
     "metadata": {},
     "output_type": "execute_result"
    },
    {
     "data": {
      "text/plain": [
       "tensor(2.3171)"
      ]
     },
     "execution_count": 138,
     "metadata": {},
     "output_type": "execute_result"
    },
    {
     "data": {
      "text/plain": [
       "tensor(-0.5000)"
      ]
     },
     "execution_count": 138,
     "metadata": {},
     "output_type": "execute_result"
    }
   ],
   "source": [
    "xb = x_train[:2]\n",
    "xb.shape\n",
    "xb\n",
    "# Relu is a class, you can call it as a function, it calls __call__\n",
    "xout = Relu()(xb)\n",
    "xout.max()\n",
    "xout.min()\n"
   ]
  },
  {
   "cell_type": "code",
   "execution_count": 139,
   "metadata": {},
   "outputs": [],
   "source": [
    "class Lin():\n",
    "    def __init__(self, w, b): \n",
    "        self.w = w\n",
    "        self.b = b\n",
    "        \n",
    "    def __call__(self, inp):\n",
    "        self.inp = inp\n",
    "        self.out = inp @ self.w + self.b\n",
    "        return self.out\n",
    "    \n",
    "    def backward(self):\n",
    "        self.inp.g = self.out.g @ self.w.t()\n",
    "        # Creating a giant outer product, just to sum it, is inefficient!\n",
    "        self.w.g = (self.inp.unsqueeze(-1) * self.out.g.unsqueeze(1)).sum(0)\n",
    "        self.b.g = self.out.g.sum(0)"
   ]
  },
  {
   "cell_type": "code",
   "execution_count": 140,
   "metadata": {},
   "outputs": [],
   "source": [
    "class Mse():\n",
    "    def __call__(self, inp, targ):\n",
    "        self.inp = inp\n",
    "        self.targ = targ\n",
    "        self.out = (inp.squeeze() - targ).pow(2).mean()\n",
    "        return self.out\n",
    "    \n",
    "    def backward(self):\n",
    "        self.inp.g = 2. * (self.inp.squeeze() - self.targ).unsqueeze(-1) / self.targ.shape[0]"
   ]
  },
  {
   "cell_type": "code",
   "execution_count": 141,
   "metadata": {},
   "outputs": [],
   "source": [
    "class Model():\n",
    "    def __init__(self, w1, b1, w2, b2):\n",
    "        self.layers = [Lin(w1, b1), Relu(), Lin(w2, b2)]\n",
    "        self.loss = Mse()\n",
    "        \n",
    "    def __call__(self, x, targ):\n",
    "        for l in self.layers: \n",
    "            x = l(x)\n",
    "        return self.loss(x, targ)\n",
    "    \n",
    "    def backward(self):\n",
    "        self.loss.backward()\n",
    "        for l in reversed(self.layers): \n",
    "            l.backward()"
   ]
  },
  {
   "cell_type": "code",
   "execution_count": 151,
   "metadata": {},
   "outputs": [],
   "source": [
    "w1.g, b1.g, w2.g, b2.g = [None] * 4\n",
    "model = Model(w1, b1, w2, b2)"
   ]
  },
  {
   "cell_type": "code",
   "execution_count": 152,
   "metadata": {},
   "outputs": [],
   "source": [
    "w1.g"
   ]
  },
  {
   "cell_type": "code",
   "execution_count": 153,
   "metadata": {},
   "outputs": [
    {
     "name": "stdout",
     "output_type": "stream",
     "text": [
      "CPU times: user 218 ms, sys: 7.01 ms, total: 225 ms\n",
      "Wall time: 38.7 ms\n"
     ]
    }
   ],
   "source": [
    "%time loss = model(x_train, y_train)"
   ]
  },
  {
   "cell_type": "code",
   "execution_count": 154,
   "metadata": {},
   "outputs": [
    {
     "data": {
      "text/plain": [
       "tensor(28.5766)"
      ]
     },
     "execution_count": 154,
     "metadata": {},
     "output_type": "execute_result"
    }
   ],
   "source": [
    "loss"
   ]
  },
  {
   "cell_type": "code",
   "execution_count": 155,
   "metadata": {},
   "outputs": [
    {
     "name": "stdout",
     "output_type": "stream",
     "text": [
      "CPU times: user 5.39 s, sys: 2.29 s, total: 7.68 s\n",
      "Wall time: 6.48 s\n"
     ]
    }
   ],
   "source": [
    "%time model.backward()"
   ]
  },
  {
   "cell_type": "code",
   "execution_count": 156,
   "metadata": {},
   "outputs": [
    {
     "data": {
      "text/plain": [
       "[<__main__.Lin at 0x7fc9a6c18668>,\n",
       " <__main__.Relu at 0x7fc9a6c18d68>,\n",
       " <__main__.Lin at 0x7fc9a6c18b70>]"
      ]
     },
     "execution_count": 156,
     "metadata": {},
     "output_type": "execute_result"
    }
   ],
   "source": [
    "model.layers"
   ]
  },
  {
   "cell_type": "code",
   "execution_count": 157,
   "metadata": {},
   "outputs": [],
   "source": [
    "test_near(w2g, w2.g)\n",
    "test_near(b2g, b2.g)\n",
    "test_near(w1g, w1.g)\n",
    "test_near(b1g, b1.g)\n",
    "test_near(ig, x_train.g)"
   ]
  },
  {
   "cell_type": "markdown",
   "metadata": {},
   "source": [
    "### Module.forward()"
   ]
  },
  {
   "cell_type": "code",
   "execution_count": 218,
   "metadata": {},
   "outputs": [],
   "source": [
    "class Module():\n",
    "    def __call__(self, *args):\n",
    "        self.args = args\n",
    "        self.out = self.forward(*args)\n",
    "        return self.out\n",
    "    \n",
    "    def forward(self): \n",
    "        raise Exception('not implemented')\n",
    "        \n",
    "    def backward(self): \n",
    "        self.bwd(self.out, *self.args)"
   ]
  },
  {
   "cell_type": "code",
   "execution_count": 219,
   "metadata": {},
   "outputs": [],
   "source": [
    "class Relu(Module):\n",
    "    def forward(self, inp): \n",
    "        return inp.clamp_min(0.)-0.5\n",
    "    \n",
    "    def bwd(self, out, inp): \n",
    "        inp.g = (inp > 0).float() * out.g"
   ]
  },
  {
   "cell_type": "code",
   "execution_count": 220,
   "metadata": {},
   "outputs": [],
   "source": [
    "class Lin(Module):\n",
    "    def __init__(self, w, b): \n",
    "        self.w = w\n",
    "        self.b = b\n",
    "        \n",
    "    def forward(self, inp): \n",
    "        return inp @ self.w + self.b\n",
    "    \n",
    "    def bwd(self, out, inp):\n",
    "        inp.g = out.g @ self.w.t()\n",
    "        self.w.g = torch.einsum(\"bi,bj->ij\", inp, out.g)\n",
    "        self.b.g = out.g.sum(0)"
   ]
  },
  {
   "cell_type": "code",
   "execution_count": 222,
   "metadata": {},
   "outputs": [],
   "source": [
    "class Mse(Module):\n",
    "    def forward (self, inp, targ): \n",
    "        return (inp.squeeze() - targ).pow(2).mean()\n",
    "    \n",
    "    def bwd(self, out, inp, targ): \n",
    "        inp.g = 2*(inp.squeeze()-targ).unsqueeze(-1) / targ.shape[0]"
   ]
  },
  {
   "cell_type": "code",
   "execution_count": 223,
   "metadata": {},
   "outputs": [],
   "source": [
    "class Model():\n",
    "    def __init__(self):\n",
    "        self.layers = [Lin(w1, b1), Relu(), Lin(w2, b2)]\n",
    "        self.loss = Mse()\n",
    "        \n",
    "    def __call__(self, x, targ):\n",
    "        for l in self.layers: \n",
    "            x = l(x)\n",
    "        return self.loss(x, targ)\n",
    "    \n",
    "    def backward(self):\n",
    "        self.loss.backward()\n",
    "        for l in reversed(self.layers): \n",
    "            l.backward()"
   ]
  },
  {
   "cell_type": "code",
   "execution_count": 224,
   "metadata": {},
   "outputs": [],
   "source": [
    "w1.g,b1.g,w2.g,b2.g = [None]*4\n",
    "model = Model()"
   ]
  },
  {
   "cell_type": "code",
   "execution_count": 225,
   "metadata": {},
   "outputs": [
    {
     "name": "stdout",
     "output_type": "stream",
     "text": [
      "CPU times: user 614 ms, sys: 2.25 s, total: 2.86 s\n",
      "Wall time: 42 ms\n"
     ]
    }
   ],
   "source": [
    "%time loss = model(x_train, y_train)"
   ]
  },
  {
   "cell_type": "code",
   "execution_count": 226,
   "metadata": {},
   "outputs": [
    {
     "name": "stdout",
     "output_type": "stream",
     "text": [
      "CPU times: user 4.19 s, sys: 1min 30s, total: 1min 34s\n",
      "Wall time: 1.31 s\n"
     ]
    }
   ],
   "source": [
    "%time model.backward()"
   ]
  },
  {
   "cell_type": "code",
   "execution_count": 227,
   "metadata": {},
   "outputs": [],
   "source": [
    "test_near(w2g, w2.g)\n",
    "test_near(b2g, b2.g)\n",
    "test_near(w1g, w1.g)\n",
    "test_near(b1g, b1.g)\n",
    "test_near(ig, x_train.g)"
   ]
  },
  {
   "cell_type": "markdown",
   "metadata": {},
   "source": [
    "### Without einsum"
   ]
  },
  {
   "cell_type": "code",
   "execution_count": 229,
   "metadata": {},
   "outputs": [],
   "source": [
    "class Lin(Module):\n",
    "    def __init__(self, w, b): \n",
    "        self.w = w\n",
    "        self.b = b\n",
    "        \n",
    "    def forward(self, inp): \n",
    "        return inp @ self.w + self.b\n",
    "    \n",
    "    def bwd(self, out, inp):\n",
    "        inp.g = out.g @ self.w.t()\n",
    "        self.w.g = inp.t() @ out.g\n",
    "        self.b.g = out.g.sum(0)"
   ]
  },
  {
   "cell_type": "code",
   "execution_count": 230,
   "metadata": {},
   "outputs": [],
   "source": [
    "w1.g,b1.g,w2.g,b2.g = [None]*4\n",
    "model = Model()"
   ]
  },
  {
   "cell_type": "code",
   "execution_count": 231,
   "metadata": {},
   "outputs": [
    {
     "name": "stdout",
     "output_type": "stream",
     "text": [
      "CPU times: user 707 ms, sys: 2.91 s, total: 3.62 s\n",
      "Wall time: 50.6 ms\n"
     ]
    }
   ],
   "source": [
    "%time loss = model(x_train, y_train)"
   ]
  },
  {
   "cell_type": "code",
   "execution_count": 232,
   "metadata": {},
   "outputs": [
    {
     "name": "stdout",
     "output_type": "stream",
     "text": [
      "CPU times: user 3.33 s, sys: 8.32 s, total: 11.6 s\n",
      "Wall time: 163 ms\n"
     ]
    }
   ],
   "source": [
    "%time model.backward()"
   ]
  },
  {
   "cell_type": "code",
   "execution_count": 233,
   "metadata": {},
   "outputs": [],
   "source": [
    "test_near(w2g, w2.g)\n",
    "test_near(b2g, b2.g)\n",
    "test_near(w1g, w1.g)\n",
    "test_near(b1g, b1.g)\n",
    "test_near(ig, x_train.g)"
   ]
  },
  {
   "cell_type": "markdown",
   "metadata": {},
   "source": [
    "### nn.Linear and nn.Module"
   ]
  },
  {
   "cell_type": "code",
   "execution_count": 158,
   "metadata": {},
   "outputs": [],
   "source": [
    "#export\n",
    "from torch import nn"
   ]
  },
  {
   "cell_type": "code",
   "execution_count": 174,
   "metadata": {},
   "outputs": [],
   "source": [
    "class Model(nn.Module):\n",
    "    def __init__(self, n_in, nh, n_out):\n",
    "        super().__init__()\n",
    "        self.layers = [nn.Linear(n_in,nh), nn.ReLU(), nn.Linear(nh,n_out)]\n",
    "        self.loss = mse\n",
    "        \n",
    "    def __call__(self, x, targ):\n",
    "        for l in self.layers: \n",
    "            x = l(x)\n",
    "            print(x)\n",
    "        return self.loss(x.squeeze(), targ)"
   ]
  },
  {
   "cell_type": "code",
   "execution_count": 175,
   "metadata": {},
   "outputs": [],
   "source": [
    "model = Model(m, nh, 1)"
   ]
  },
  {
   "cell_type": "code",
   "execution_count": 176,
   "metadata": {},
   "outputs": [
    {
     "name": "stdout",
     "output_type": "stream",
     "text": [
      "tensor([[-0.0139, -0.7194,  0.1194,  ..., -0.5361, -0.8814, -0.2212],\n",
      "        [-1.0406, -0.0535,  0.1731,  ..., -0.7719, -0.6613, -0.6865],\n",
      "        [ 0.0707,  0.3832,  0.1237,  ..., -0.1785, -0.0776, -0.6716],\n",
      "        ...,\n",
      "        [ 0.5378, -1.6935,  0.4396,  ..., -0.3225,  0.2675, -0.4148],\n",
      "        [-0.0819, -0.8078,  0.4252,  ..., -0.3885, -0.6447, -0.3356],\n",
      "        [ 0.5932, -0.9925,  1.6636,  ..., -0.7242,  0.7382, -0.5686]],\n",
      "       grad_fn=<AddmmBackward>)\n",
      "tensor([[0.0000, 0.0000, 0.1194,  ..., 0.0000, 0.0000, 0.0000],\n",
      "        [0.0000, 0.0000, 0.1731,  ..., 0.0000, 0.0000, 0.0000],\n",
      "        [0.0707, 0.3832, 0.1237,  ..., 0.0000, 0.0000, 0.0000],\n",
      "        ...,\n",
      "        [0.5378, 0.0000, 0.4396,  ..., 0.0000, 0.2675, 0.0000],\n",
      "        [0.0000, 0.0000, 0.4252,  ..., 0.0000, 0.0000, 0.0000],\n",
      "        [0.5932, 0.0000, 1.6636,  ..., 0.0000, 0.7382, 0.0000]],\n",
      "       grad_fn=<ThresholdBackward0>)\n",
      "tensor([[-0.2271],\n",
      "        [-0.3606],\n",
      "        [-0.2998],\n",
      "        ...,\n",
      "        [-0.1948],\n",
      "        [-0.1108],\n",
      "        [-0.1472]], grad_fn=<AddmmBackward>)\n",
      "CPU times: user 306 ms, sys: 11.8 ms, total: 318 ms\n",
      "Wall time: 60.8 ms\n"
     ]
    }
   ],
   "source": [
    "%time loss = model(x_train, y_train)"
   ]
  },
  {
   "cell_type": "code",
   "execution_count": 179,
   "metadata": {},
   "outputs": [
    {
     "data": {
      "text/plain": [
       "tensor(28.9134, grad_fn=<MeanBackward1>)"
      ]
     },
     "execution_count": 179,
     "metadata": {},
     "output_type": "execute_result"
    }
   ],
   "source": [
    "loss"
   ]
  },
  {
   "cell_type": "code",
   "execution_count": 180,
   "metadata": {},
   "outputs": [
    {
     "name": "stdout",
     "output_type": "stream",
     "text": [
      "CPU times: user 254 ms, sys: 2.28 ms, total: 256 ms\n",
      "Wall time: 49.2 ms\n"
     ]
    }
   ],
   "source": [
    "%time loss.backward()"
   ]
  },
  {
   "cell_type": "code",
   "execution_count": 184,
   "metadata": {},
   "outputs": [
    {
     "data": {
      "text/plain": [
       "[Linear(in_features=784, out_features=50, bias=True),\n",
       " ReLU(),\n",
       " Linear(in_features=50, out_features=1, bias=True)]"
      ]
     },
     "execution_count": 184,
     "metadata": {},
     "output_type": "execute_result"
    }
   ],
   "source": [
    "model.layers"
   ]
  },
  {
   "cell_type": "markdown",
   "metadata": {},
   "source": [
    "## Export"
   ]
  },
  {
   "cell_type": "code",
   "execution_count": 240,
   "metadata": {},
   "outputs": [
    {
     "name": "stdout",
     "output_type": "stream",
     "text": [
      "Converted 02_fully_connected.ipynb to exp/nb_02.py\r\n"
     ]
    }
   ],
   "source": [
    "!python notebook2script.py 02_fully_connected.ipynb"
   ]
  },
  {
   "cell_type": "code",
   "execution_count": null,
   "metadata": {},
   "outputs": [],
   "source": []
  }
 ],
 "metadata": {
  "kernelspec": {
   "display_name": "Python 3",
   "language": "python",
   "name": "python3"
  },
  "language_info": {
   "codemirror_mode": {
    "name": "ipython",
    "version": 3
   },
   "file_extension": ".py",
   "mimetype": "text/x-python",
   "name": "python",
   "nbconvert_exporter": "python",
   "pygments_lexer": "ipython3",
   "version": "3.6.9"
  }
 },
 "nbformat": 4,
 "nbformat_minor": 2
}
