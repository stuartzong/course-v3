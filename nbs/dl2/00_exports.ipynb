{
 "cells": [
  {
   "cell_type": "code",
   "execution_count": 1,
   "metadata": {},
   "outputs": [],
   "source": [
    "#export\n",
    "TEST = 'test'"
   ]
  },
  {
   "cell_type": "markdown",
   "metadata": {},
   "source": [
    "## Export"
   ]
  },
  {
   "cell_type": "code",
   "execution_count": 2,
   "metadata": {},
   "outputs": [
    {
     "name": "stdout",
     "output_type": "stream",
     "text": [
      "Converted 00_exports.ipynb to exp/nb_00.py\r\n"
     ]
    }
   ],
   "source": [
    "!python notebook2script.py 00_exports.ipynb"
   ]
  },
  {
   "cell_type": "markdown",
   "metadata": {},
   "source": [
    "### How it works:"
   ]
  },
  {
   "cell_type": "code",
   "execution_count": 1,
   "metadata": {},
   "outputs": [],
   "source": [
    "import json\n",
    "d = json.load(open('00_exports.ipynb','r'))['cells']"
   ]
  },
  {
   "cell_type": "code",
   "execution_count": 2,
   "metadata": {},
   "outputs": [
    {
     "data": {
      "text/plain": [
       "{'cell_type': 'code',\n",
       " 'execution_count': 1,\n",
       " 'metadata': {},\n",
       " 'outputs': [],\n",
       " 'source': ['#export\\n', \"TEST = 'test'\"]}"
      ]
     },
     "execution_count": 2,
     "metadata": {},
     "output_type": "execute_result"
    }
   ],
   "source": [
    "d[0]"
   ]
  },
  {
   "cell_type": "code",
   "execution_count": 3,
   "metadata": {},
   "outputs": [
    {
     "data": {
      "text/plain": [
       "[{'cell_type': 'code',\n",
       "  'execution_count': 1,\n",
       "  'metadata': {},\n",
       "  'outputs': [],\n",
       "  'source': ['#export\\n', \"TEST = 'test'\"]},\n",
       " {'cell_type': 'markdown', 'metadata': {}, 'source': ['## Export']},\n",
       " {'cell_type': 'code',\n",
       "  'execution_count': 2,\n",
       "  'metadata': {},\n",
       "  'outputs': [{'name': 'stdout',\n",
       "    'output_type': 'stream',\n",
       "    'text': ['Converted 00_exports.ipynb to exp/nb_00.py\\r\\n']}],\n",
       "  'source': ['!python notebook2script.py 00_exports.ipynb']},\n",
       " {'cell_type': 'markdown', 'metadata': {}, 'source': ['### How it works:']},\n",
       " {'cell_type': 'code',\n",
       "  'execution_count': 3,\n",
       "  'metadata': {},\n",
       "  'outputs': [],\n",
       "  'source': ['import json\\n',\n",
       "   \"d = json.load(open('00_exports.ipynb','r'))['cells']\"]},\n",
       " {'cell_type': 'code',\n",
       "  'execution_count': 4,\n",
       "  'metadata': {},\n",
       "  'outputs': [{'data': {'text/plain': [\"{'cell_type': 'code',\\n\",\n",
       "      \" 'execution_count': 1,\\n\",\n",
       "      \" 'metadata': {},\\n\",\n",
       "      \" 'outputs': [],\\n\",\n",
       "      ' \\'source\\': [\\'#export\\\\n\\', \"TEST = \\'test\\'\"]}']},\n",
       "    'execution_count': 4,\n",
       "    'metadata': {},\n",
       "    'output_type': 'execute_result'}],\n",
       "  'source': ['d[0]']},\n",
       " {'cell_type': 'code',\n",
       "  'execution_count': 5,\n",
       "  'metadata': {},\n",
       "  'outputs': [{'name': 'stdout',\n",
       "    'output_type': 'stream',\n",
       "    'text': ['#!/usr/bin/env python\\r\\n',\n",
       "     '\\r\\n',\n",
       "     'import json,fire,re\\r\\n',\n",
       "     'from pathlib import Path\\r\\n',\n",
       "     '\\r\\n',\n",
       "     'def is_export(cell):\\r\\n',\n",
       "     \"    if cell['cell_type'] != 'code': return False\\r\\n\",\n",
       "     \"    src = cell['source']\\r\\n\",\n",
       "     '    if len(src) == 0 or len(src[0]) < 7: return False\\r\\n',\n",
       "     '    #import pdb; pdb.set_trace()\\r\\n',\n",
       "     \"    return re.match(r'^\\\\s*#\\\\s*export\\\\s*$', src[0], re.IGNORECASE) is not None\\r\\n\",\n",
       "     '\\r\\n',\n",
       "     'def getSortedFiles(allFiles, upTo=None):\\r\\n',\n",
       "     \"    '''Returns all the notebok files sorted by name.\\r\\n\",\n",
       "     '       allFiles = True : returns all files\\r\\n',\n",
       "     \"                = '*_*.ipynb' : returns this pattern\\r\\n\",\n",
       "     '       upTo = None : no upper limit\\r\\n',\n",
       "     \"            = filter : returns all files up to 'filter' included\\r\\n\",\n",
       "     '       The sorting optioj is important to ensure that the notebok are executed in correct order.\\r\\n',\n",
       "     \"    '''\\r\\n\",\n",
       "     '    import glob\\r\\n',\n",
       "     '    ret = []\\r\\n',\n",
       "     \"    if (allFiles==True): ret = glob.glob('*.ipynb') # Checks both that is bool type and that is True\\r\\n\",\n",
       "     '    if (isinstance(allFiles,str)): ret = glob.glob(allFiles)\\r\\n',\n",
       "     '    if 0==len(ret): \\r\\n',\n",
       "     \"        print('WARNING: No files found')\\r\\n\",\n",
       "     '        return ret\\r\\n',\n",
       "     '    if upTo is not None: ret = [f for f in ret if str(f)<=str(upTo)]\\r\\n',\n",
       "     '    return sorted(ret)\\r\\n',\n",
       "     '\\r\\n',\n",
       "     'def notebook2script(fname=None, allFiles=None, upTo=None):\\r\\n',\n",
       "     \"    '''Finds cells starting with `#export` and puts them into a new module\\r\\n\",\n",
       "     '       + allFiles: convert all files in the folder\\r\\n',\n",
       "     '       + upTo: convert files up to specified one included\\r\\n',\n",
       "     '       \\r\\n',\n",
       "     '       ES: \\r\\n',\n",
       "     '       notebook2script --allFiles=True   # Parse all files\\r\\n',\n",
       "     '       notebook2script --allFiles=nb*   # Parse all files starting with nb*\\r\\n',\n",
       "     \"       notebook2script --upTo=10   # Parse all files with (name<='10')\\r\\n\",\n",
       "     \"       notebook2script --allFiles=*_*.ipynb --upTo=10   # Parse all files with an '_' and (name<='10')\\r\\n\",\n",
       "     \"    '''\\r\\n\",\n",
       "     '    # initial checks\\r\\n',\n",
       "     '    if (allFiles is None) and (upTo is not None): allFiles=True # Enable allFiles if upTo is present\\r\\n',\n",
       "     \"    if (fname is None) and (not allFiles): print('Should provide a file name')\\r\\n\",\n",
       "     '    if not allFiles: notebook2scriptSingle(fname)\\r\\n',\n",
       "     '    else:\\r\\n',\n",
       "     \"        print('Begin...')\\r\\n\",\n",
       "     '        [notebook2scriptSingle(f) for f in getSortedFiles(allFiles,upTo)]\\r\\n',\n",
       "     \"        print('...End')\\r\\n\",\n",
       "     '        \\r\\n',\n",
       "     '        \\r\\n',\n",
       "     'def notebook2scriptSingle(fname):\\r\\n',\n",
       "     '    \"Finds cells starting with `#export` and puts them into a new module\"\\r\\n',\n",
       "     '    fname = Path(fname)\\r\\n',\n",
       "     '    fname_out = f\\'nb_{fname.stem.split(\"_\")[0]}.py\\'\\r\\n',\n",
       "     '    main_dic = json.load(open(fname,\\'r\\',encoding=\"utf-8\"))\\r\\n',\n",
       "     \"    code_cells = [c for c in main_dic['cells'] if is_export(c)]\\r\\n\",\n",
       "     \"    module = f'''\\r\\n\",\n",
       "     '#################################################\\r\\n',\n",
       "     '### THIS FILE WAS AUTOGENERATED! DO NOT EDIT! ###\\r\\n',\n",
       "     '#################################################\\r\\n',\n",
       "     '# file to edit: dev_nb/{fname.name}\\r\\n',\n",
       "     '\\r\\n',\n",
       "     \"'''\\r\\n\",\n",
       "     \"    for cell in code_cells: module += ''.join(cell['source'][1:]) + '\\\\n\\\\n'\\r\\n\",\n",
       "     '    # remove trailing spaces\\r\\n',\n",
       "     \"    module = re.sub(r' +$', '', module, flags=re.MULTILINE)\\r\\n\",\n",
       "     \"    output_path = fname.parent/'exp'/fname_out\\r\\n\",\n",
       "     \"    open(output_path,'w').write(module[:-2])\\r\\n\",\n",
       "     '    print(f\"Converted {fname} to {output_path}\")\\r\\n',\n",
       "     '\\r\\n',\n",
       "     \"if __name__ == '__main__': fire.Fire(notebook2script)\\r\\n\",\n",
       "     '\\r\\n']}],\n",
       "  'source': ['!cat notebook2script.py']}]"
      ]
     },
     "execution_count": 3,
     "metadata": {},
     "output_type": "execute_result"
    }
   ],
   "source": [
    "d"
   ]
  },
  {
   "cell_type": "code",
   "execution_count": 5,
   "metadata": {},
   "outputs": [
    {
     "name": "stdout",
     "output_type": "stream",
     "text": [
      "#!/usr/bin/env python\r\n",
      "\r\n",
      "import json,fire,re\r\n",
      "from pathlib import Path\r\n",
      "\r\n",
      "def is_export(cell):\r\n",
      "    if cell['cell_type'] != 'code': return False\r\n",
      "    src = cell['source']\r\n",
      "    if len(src) == 0 or len(src[0]) < 7: return False\r\n",
      "    #import pdb; pdb.set_trace()\r\n",
      "    return re.match(r'^\\s*#\\s*export\\s*$', src[0], re.IGNORECASE) is not None\r\n",
      "\r\n",
      "def getSortedFiles(allFiles, upTo=None):\r\n",
      "    '''Returns all the notebok files sorted by name.\r\n",
      "       allFiles = True : returns all files\r\n",
      "                = '*_*.ipynb' : returns this pattern\r\n",
      "       upTo = None : no upper limit\r\n",
      "            = filter : returns all files up to 'filter' included\r\n",
      "       The sorting optioj is important to ensure that the notebok are executed in correct order.\r\n",
      "    '''\r\n",
      "    import glob\r\n",
      "    ret = []\r\n",
      "    if (allFiles==True): ret = glob.glob('*.ipynb') # Checks both that is bool type and that is True\r\n",
      "    if (isinstance(allFiles,str)): ret = glob.glob(allFiles)\r\n",
      "    if 0==len(ret): \r\n",
      "        print('WARNING: No files found')\r\n",
      "        return ret\r\n",
      "    if upTo is not None: ret = [f for f in ret if str(f)<=str(upTo)]\r\n",
      "    return sorted(ret)\r\n",
      "\r\n",
      "def notebook2script(fname=None, allFiles=None, upTo=None):\r\n",
      "    '''Finds cells starting with `#export` and puts them into a new module\r\n",
      "       + allFiles: convert all files in the folder\r\n",
      "       + upTo: convert files up to specified one included\r\n",
      "       \r\n",
      "       ES: \r\n",
      "       notebook2script --allFiles=True   # Parse all files\r\n",
      "       notebook2script --allFiles=nb*   # Parse all files starting with nb*\r\n",
      "       notebook2script --upTo=10   # Parse all files with (name<='10')\r\n",
      "       notebook2script --allFiles=*_*.ipynb --upTo=10   # Parse all files with an '_' and (name<='10')\r\n",
      "    '''\r\n",
      "    # initial checks\r\n",
      "    if (allFiles is None) and (upTo is not None): allFiles=True # Enable allFiles if upTo is present\r\n",
      "    if (fname is None) and (not allFiles): print('Should provide a file name')\r\n",
      "    if not allFiles: notebook2scriptSingle(fname)\r\n",
      "    else:\r\n",
      "        print('Begin...')\r\n",
      "        [notebook2scriptSingle(f) for f in getSortedFiles(allFiles,upTo)]\r\n",
      "        print('...End')\r\n",
      "        \r\n",
      "        \r\n",
      "def notebook2scriptSingle(fname):\r\n",
      "    \"Finds cells starting with `#export` and puts them into a new module\"\r\n",
      "    fname = Path(fname)\r\n",
      "    fname_out = f'nb_{fname.stem.split(\"_\")[0]}.py'\r\n",
      "    main_dic = json.load(open(fname,'r',encoding=\"utf-8\"))\r\n",
      "    code_cells = [c for c in main_dic['cells'] if is_export(c)]\r\n",
      "    module = f'''\r\n",
      "#################################################\r\n",
      "### THIS FILE WAS AUTOGENERATED! DO NOT EDIT! ###\r\n",
      "#################################################\r\n",
      "# file to edit: dev_nb/{fname.name}\r\n",
      "\r\n",
      "'''\r\n",
      "    for cell in code_cells: module += ''.join(cell['source'][1:]) + '\\n\\n'\r\n",
      "    # remove trailing spaces\r\n",
      "    module = re.sub(r' +$', '', module, flags=re.MULTILINE)\r\n",
      "    output_path = fname.parent/'exp'/fname_out\r\n",
      "    open(output_path,'w').write(module[:-2])\r\n",
      "    print(f\"Converted {fname} to {output_path}\")\r\n",
      "\r\n",
      "if __name__ == '__main__': fire.Fire(notebook2script)\r\n",
      "\r\n"
     ]
    }
   ],
   "source": [
    "!cat notebook2script.py"
   ]
  }
 ],
 "metadata": {
  "kernelspec": {
   "display_name": "Python 3",
   "language": "python",
   "name": "python3"
  },
  "language_info": {
   "codemirror_mode": {
    "name": "ipython",
    "version": 3
   },
   "file_extension": ".py",
   "mimetype": "text/x-python",
   "name": "python",
   "nbconvert_exporter": "python",
   "pygments_lexer": "ipython3",
   "version": "3.6.6"
  }
 },
 "nbformat": 4,
 "nbformat_minor": 2
}
