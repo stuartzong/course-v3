{
 "cells": [
  {
   "cell_type": "markdown",
   "metadata": {},
   "source": [
    "https://reshamas.github.io/deploying-deep-learning-models-on-web-and-mobile/"
   ]
  },
  {
   "cell_type": "markdown",
   "metadata": {},
   "source": [
    "heroku account: hotmail, pw:D..homeps"
   ]
  },
  {
   "cell_type": "markdown",
   "metadata": {},
   "source": [
    "clone this repo:https://github.com/npatta01/web-deep-learning-classifier\n",
    "\n"
   ]
  },
  {
   "cell_type": "markdown",
   "metadata": {},
   "source": [
    "# on google cloud platform"
   ]
  },
  {
   "cell_type": "markdown",
   "metadata": {},
   "source": [
    "this is one app I got runnning, meant to do the bear detector, but maybe not working, trying to figure out\n",
    "\n",
    "http://beardetector-249718.appspot.com/\n",
    "\n",
    "you can open the google cloud console, see files in your home dir, /home/zszong73/\n",
    "\n",
    "the main.py file in /home/zszong73/gcpapp1, run the flask app? it renders index.html file? the index.html and other web page files are in the templates sub directories.\n",
    "\n",
    "update you deployment app: gcloud deployment-manager deployments update beardetector"
   ]
  },
  {
   "cell_type": "markdown",
   "metadata": {},
   "source": [
    "# heroku\n",
    "I got bear classifier model served on heroku on Nov 12, 2019, exciting moment. thanks to this link:\n",
    "https://reshamas.github.io/deploying-deep-learning-models-on-web-and-mobile/. It worked. But I still need to understand why and how. I basically used all the directory structure, scripts. I just replaced the model.pkl, classes.txt files with mine. and specified the fastai version i used in the requirements.txt file. New version fastai loads learner a little differently. load_learn(path=, file=) instead of fname=. the pickle file contianing all the model weights needs to be consitent with the file name you used in the app.py script when you load the model.\n",
    "\n",
    "need to understand the webpage component and how it rendered and how the url or the upload image is passed to the model for prediction."
   ]
  },
  {
   "cell_type": "markdown",
   "metadata": {},
   "source": [
    "when deploy models to production, make sure you use the same version of libraries as you trained your model. if the model.pkl if too big, you can save to git release, or save to google drive and copy to the local repo, need to push it to the heroku master branch in order to serve the web app."
   ]
  },
  {
   "cell_type": "markdown",
   "metadata": {},
   "source": [
    "* build dock file, \n",
    "* push app to github\n",
    "* log in to herocu cli: heroku login -i, enter email and password, zszong@hotmail.com, D..S..20\n",
    "* log in to container: heroku container:login\n",
    "* cd to the project directory, \n",
    "* heroku create --app stuart-bear-classifier # this create an app, add heroku remote to the git repo\n",
    "* heroku container:push web --app stuart-bear-classifier # sometimes this command needs to be rerun.\n",
    "* heroku container:release web --app stuart-bear-classifier # optional  add \" --app appname\"\n",
    "* heroku open # this will open the app in a web browser\n"
   ]
  },
  {
   "cell_type": "markdown",
   "metadata": {},
   "source": [
    "# update after deloyment"
   ]
  },
  {
   "cell_type": "markdown",
   "metadata": {},
   "source": [
    "* make the change in local repo\n",
    "* commit changes to heroku, git add then commit, then git push heroku master\n",
    "* repush and release the app using heroku container:push/release web --app appname\n",
    "* heroku open to launch the app in web browser.\n",
    "* added a heroku.yml file\n",
    "* git add/commit heroku.yml\n",
    "* heroku stack:set container # not sure what this does\n",
    "* git push heroku master"
   ]
  }
 ],
 "metadata": {
  "kernelspec": {
   "display_name": "Python 3",
   "language": "python",
   "name": "python3"
  },
  "language_info": {
   "codemirror_mode": {
    "name": "ipython",
    "version": 3
   },
   "file_extension": ".py",
   "mimetype": "text/x-python",
   "name": "python",
   "nbconvert_exporter": "python",
   "pygments_lexer": "ipython3",
   "version": "3.6.6"
  }
 },
 "nbformat": 4,
 "nbformat_minor": 2
}
