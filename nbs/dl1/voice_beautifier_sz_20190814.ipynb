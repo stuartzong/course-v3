{
 "cells": [
  {
   "cell_type": "markdown",
   "metadata": {},
   "source": [
    "some information is here:\n",
    "\n",
    "https://2hz.ai/blog/hd-voice-playback/index.html\n",
    "\n",
    "https://thenextweb.com/insights/2018/01/22/i-trained-an-ai-to-copy-my-voice-and-scared-myself-silly/\n",
    "\n",
    "https://forums.fast.ai/t/deep-learning-with-audio-thread/38123"
   ]
  },
  {
   "cell_type": "markdown",
   "metadata": {},
   "source": [
    "but my goal is to focus on individuals. Many people does not have a charming voice or they can not pronounce certain sound correctly. I hope this system will be able to help them. \n",
    "\n",
    "basical idea is that we need to find some recordings that from one person with the voice we like. for example, a person's normal speaking recording or reading stories. And then i will read the same thing myself and record it. Now we have two sets of recordings, we could train a neural network model to map my voice to the voice i like. hopefully, the model will output better voice and pronunications."
   ]
  }
 ],
 "metadata": {
  "kernelspec": {
   "display_name": "Python 3",
   "language": "python",
   "name": "python3"
  },
  "language_info": {
   "codemirror_mode": {
    "name": "ipython",
    "version": 3
   },
   "file_extension": ".py",
   "mimetype": "text/x-python",
   "name": "python",
   "nbconvert_exporter": "python",
   "pygments_lexer": "ipython3",
   "version": "3.7.3"
  }
 },
 "nbformat": 4,
 "nbformat_minor": 2
}
